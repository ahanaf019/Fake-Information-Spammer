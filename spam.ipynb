{
 "cells": [
  {
   "attachments": {},
   "cell_type": "markdown",
   "metadata": {},
   "source": [
    "## Import dependencies"
   ]
  },
  {
   "cell_type": "code",
   "execution_count": 1,
   "metadata": {},
   "outputs": [],
   "source": [
    "import requests\n",
    "from bs4 import BeautifulSoup as bs\n",
    "import random\n",
    "from selenium import webdriver\n",
    "from selenium.webdriver.common.by import By\n",
    "from selenium.webdriver.support.ui import Select\n",
    "from selenium.webdriver.support.ui import WebDriverWait\n",
    "import time\n",
    "from selenium.webdriver.support import expected_conditions as EC\n",
    "from selenium.webdriver.common.action_chains import ActionChains"
   ]
  },
  {
   "attachments": {},
   "cell_type": "markdown",
   "metadata": {},
   "source": [
    "## Generate a random 11 digit mobile number"
   ]
  },
  {
   "cell_type": "code",
   "execution_count": null,
   "metadata": {},
   "outputs": [],
   "source": [
    "def generate_number():\n",
    "    choice = random.randint(0, 6)\n",
    "    digits = '0123456789'\n",
    "    series = ['013', '014', '015', '016', '017', '018', '019']\n",
    "    number = series[choice]\n",
    "    \n",
    "    for i in range(8):\n",
    "        number += random.choice(digits)\n",
    "    \n",
    "    return number"
   ]
  },
  {
   "attachments": {},
   "cell_type": "markdown",
   "metadata": {},
   "source": [
    "## Get a random name and gender from the web"
   ]
  },
  {
   "cell_type": "code",
   "execution_count": null,
   "metadata": {},
   "outputs": [],
   "source": [
    "def get_random_name():\n",
    "    response = requests.get(\"https://namegenerators.org/muslim-name-generator-rd/\")\n",
    "    soup = bs(response.text)\n",
    "    name = soup.find_all(class_=\"name\")[0].text\n",
    "    gender = soup.findChildren('div', class_='col2')[4].text\n",
    "    return name, gender"
   ]
  },
  {
   "attachments": {},
   "cell_type": "markdown",
   "metadata": {},
   "source": [
    "## Generate other relevent information"
   ]
  },
  {
   "cell_type": "code",
   "execution_count": null,
   "metadata": {},
   "outputs": [],
   "source": [
    "def get_pin():\n",
    "    digits = '0123456789'\n",
    "    number = ''\n",
    "    for i in range(5):\n",
    "        number += random.choice(digits)\n",
    "    return number\n",
    "\n",
    "def get_otp():\n",
    "    digits = '0123456789'\n",
    "    number = ''\n",
    "    for i in range(6):\n",
    "        number += random.choice(digits)\n",
    "    return number\n",
    "\n",
    "def get_balance():\n",
    "    digits = '0123456789'\n",
    "    number = ''\n",
    "    for i in range(random.randint(4, 7)):\n",
    "        number += random.choice(digits)\n",
    "    return int(number)/100"
   ]
  },
  {
   "attachments": {},
   "cell_type": "markdown",
   "metadata": {},
   "source": [
    "## The main function which spams the scammer"
   ]
  },
  {
   "cell_type": "code",
   "execution_count": null,
   "metadata": {},
   "outputs": [],
   "source": [
    "def spam():\n",
    "    number = generate_number()\n",
    "    name, gender = get_random_name()\n",
    "\n",
    "    if gender == 'Male':\n",
    "        gcode = 1\n",
    "    else:\n",
    "        gcode = 2\n",
    "\n",
    "    driver = webdriver.Firefox()\n",
    "    driver.get(\"http://52.22.241.85/\")\n",
    "\n",
    "    user = driver.find_element(\"id\", 'entity_name')                # Name \n",
    "    user.send_keys(name)\n",
    "\n",
    "    username = driver.find_element(\"id\", 'contact_person')         # Facebook ID\n",
    "    username.send_keys(name)\n",
    "\n",
    "    num = driver.find_element('id', \"number\")                      # Mobile No.\n",
    "    num.send_keys(number)\n",
    "    \n",
    "    timeout = 15\n",
    "    try:\n",
    "        element_present = EC.presence_of_element_located((By.CLASS_NAME, 'form-select'))\n",
    "        WebDriverWait(driver, timeout).until(element_present)\n",
    "\n",
    "        driver.execute_script(\"window.scrollTo(0, document.body.scrollHeight);\")\n",
    "        selects = driver.find_elements(By.CLASS_NAME, 'form-select')\n",
    "        Select(selects[0]).select_by_index(random.randint(1, 61))   # district\n",
    "        Select(selects[1]).select_by_index(1)                       # do you know bkash\n",
    "        Select(selects[2]).select_by_index(random.randint(1, 4))    # age\n",
    "        Select(selects[3]).select_by_index(random.randint(1, 2))    # how do you kike bkash\n",
    "        Select(selects[4]).select_by_index(gcode)                   # gender\n",
    "        \n",
    "        enter = driver.find_element('name', \"login\").submit()\n",
    "        time.sleep(3)\n",
    "        \n",
    "        \n",
    "        driver.execute_script(\"window.scrollTo(0, document.body.scrollHeight);\")\n",
    "        num = driver.find_element('id', \"number\")\n",
    "        # pin = driver.find_element('id', \"pin\")\n",
    "        # balance = driver.find_element('id', \"balance\")\n",
    "        \n",
    "        # balance.send_keys(get_balance())\n",
    "        # pin.send_keys(get_pin())\n",
    "        num.send_keys(number)\n",
    "        \n",
    "        time.sleep(2)\n",
    "        enter = driver.find_element('name', \"login\").submit()\n",
    "        \n",
    "        # driver.execute_script(\"window.scrollTo(0, document.body.scrollHeight);\")\n",
    "        # time.sleep(2)\n",
    "        # otp = driver.find_element('id', \"otp\") \n",
    "        # otp.send_keys(get_otp())\n",
    "        # enter = driver.find_element('name', \"login\").submit()\n",
    "        time.sleep(2)\n",
    "        \n",
    "    except Exception as e:\n",
    "        print(e)\n",
    "    \n",
    "    driver.close()"
   ]
  },
  {
   "attachments": {},
   "cell_type": "markdown",
   "metadata": {},
   "source": [
    "## Calling `spam()`"
   ]
  },
  {
   "cell_type": "code",
   "execution_count": null,
   "metadata": {},
   "outputs": [],
   "source": [
    "spam()"
   ]
  },
  {
   "cell_type": "code",
   "execution_count": null,
   "metadata": {},
   "outputs": [],
   "source": [
    "def spam_loop():\n",
    "    for i in range(1000):\n",
    "        try:\n",
    "            print(i)\n",
    "            spam()\n",
    "        except:\n",
    "            pass\n",
    "        \n",
    "spam_loop()"
   ]
  },
  {
   "attachments": {},
   "cell_type": "markdown",
   "metadata": {},
   "source": [
    "## Running `spam_loop()` with multiprocessing"
   ]
  },
  {
   "cell_type": "code",
   "execution_count": null,
   "metadata": {},
   "outputs": [],
   "source": [
    "import multiprocessing\n",
    "\n",
    "p1 = multiprocessing.Process(target=spam_loop, args=() )\n",
    "p2 = multiprocessing.Process(target=spam_loop, args=() )\n",
    "p3 = multiprocessing.Process(target=spam_loop, args=() )\n",
    "p4 = multiprocessing.Process(target=spam_loop, args=() )\n",
    "p1.start()\n",
    "p2.start()\n",
    "p3.start()\n",
    "p4.start()\n",
    "p1.join()\n",
    "p2.join()\n",
    "p3.join()\n",
    "p4.join()"
   ]
  }
 ],
 "metadata": {
  "kernelspec": {
   "display_name": "Tensorflow 2.8 Env",
   "language": "python",
   "name": "tf_2_8_env"
  },
  "language_info": {
   "codemirror_mode": {
    "name": "ipython",
    "version": 3
   },
   "file_extension": ".py",
   "mimetype": "text/x-python",
   "name": "python",
   "nbconvert_exporter": "python",
   "pygments_lexer": "ipython3",
   "version": "3.8.10"
  },
  "orig_nbformat": 4
 },
 "nbformat": 4,
 "nbformat_minor": 2
}

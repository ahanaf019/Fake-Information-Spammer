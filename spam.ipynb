{
 "cells": [
  {
   "cell_type": "code",
   "execution_count": 1,
   "metadata": {},
   "outputs": [],
   "source": [
    "import requests\n",
    "from bs4 import BeautifulSoup as bs\n",
    "import random\n",
    "from selenium import webdriver\n",
    "from selenium.webdriver.common.by import By\n",
    "from selenium.webdriver.support.ui import Select\n",
    "from selenium.webdriver.support.ui import WebDriverWait\n",
    "import time\n",
    "from selenium.webdriver.support import expected_conditions as EC\n",
    "from selenium.webdriver.common.action_chains import ActionChains\n"
   ]
  },
  {
   "cell_type": "code",
   "execution_count": 3,
   "metadata": {},
   "outputs": [],
   "source": [
    "def generate_number():\n",
    "    choice = random.randint(0, 6)\n",
    "    digits = '0123456789'\n",
    "    series = ['013', '014', '015', '016', '017', '018', '019']\n",
    "    number = series[choice]\n",
    "    \n",
    "    for i in range(8):\n",
    "        number += random.choice(digits)\n",
    "    \n",
    "    return number"
   ]
  },
  {
   "cell_type": "code",
   "execution_count": null,
   "metadata": {},
   "outputs": [],
   "source": [
    "generate_number()"
   ]
  },
  {
   "cell_type": "code",
   "execution_count": 4,
   "metadata": {},
   "outputs": [
    {
     "data": {
      "text/plain": [
       "('Yaasir Nasrallah', 'Male')"
      ]
     },
     "execution_count": 4,
     "metadata": {},
     "output_type": "execute_result"
    }
   ],
   "source": [
    "def get_random_name():\n",
    "    response = requests.get(\"https://namegenerators.org/muslim-name-generator-rd/\")\n",
    "    soup = bs(response.text)\n",
    "    name = soup.find_all(class_=\"name\")[0].text\n",
    "    gender = soup.findChildren('div', class_='col2')[4].text\n",
    "    return name, gender\n",
    "get_random_name()"
   ]
  },
  {
   "cell_type": "code",
   "execution_count": 5,
   "metadata": {},
   "outputs": [],
   "source": [
    "def get_pin():\n",
    "    digits = '0123456789'\n",
    "    number = ''\n",
    "    for i in range(5):\n",
    "        number += random.choice(digits)\n",
    "    return number\n",
    "\n",
    "def get_otp():\n",
    "    digits = '0123456789'\n",
    "    number = ''\n",
    "    for i in range(6):\n",
    "        number += random.choice(digits)\n",
    "    return number\n",
    "\n",
    "def get_balance():\n",
    "    digits = '0123456789'\n",
    "    number = ''\n",
    "    for i in range(random.randint(4, 7)):\n",
    "        number += random.choice(digits)\n",
    "    return int(number)/100\n",
    "\n"
   ]
  },
  {
   "cell_type": "code",
   "execution_count": null,
   "metadata": {},
   "outputs": [],
   "source": [
    "get_balance()"
   ]
  },
  {
   "cell_type": "code",
   "execution_count": null,
   "metadata": {},
   "outputs": [],
   "source": [
    "number = generate_number()\n",
    "name, gender = get_random_name()"
   ]
  },
  {
   "cell_type": "code",
   "execution_count": 10,
   "metadata": {},
   "outputs": [],
   "source": [
    "def spam():\n",
    "\n",
    "    number = generate_number()\n",
    "    name, gender = get_random_name()\n",
    "\n",
    "    if gender == 'Male':\n",
    "        gcode = 1\n",
    "    else:\n",
    "        gcode = 2\n",
    "\n",
    "    driver = webdriver.Firefox()\n",
    "    driver.get(\"http://52.22.241.85/\")\n",
    "\n",
    "\n",
    "    user = driver.find_element(\"id\", 'entity_name')\n",
    "    user.send_keys(name)\n",
    "\n",
    "    username = driver.find_element(\"id\", 'contact_person')\n",
    "    username.send_keys(name)\n",
    "\n",
    "    num = driver.find_element('id', \"number\")\n",
    "    num.send_keys(number)\n",
    "    \n",
    "    timeout = 15\n",
    "    try:\n",
    "        # WebDriverWait(driver,30).until(EC.element_to_be_clickable((By.NAME,\"login\")))\n",
    "        element_present = EC.presence_of_element_located((By.CLASS_NAME, 'form-select'))\n",
    "        WebDriverWait(driver, timeout).until(element_present)\n",
    "        # ActionChains(driver).move_to_element(driver.find_element('name', 'login')).perform()\n",
    "\n",
    "        driver.execute_script(\"window.scrollTo(0, document.body.scrollHeight);\")\n",
    "        selects = driver.find_elements(By.CLASS_NAME, 'form-select')\n",
    "        Select(selects[0]).select_by_index(random.randint(1, 61))   # district\n",
    "        Select(selects[1]).select_by_index(1)                       # do you know bkash\n",
    "        Select(selects[2]).select_by_index(random.randint(1, 4))    # age\n",
    "        Select(selects[3]).select_by_index(random.randint(1, 2))    # how do you kike bkash\n",
    "        Select(selects[4]).select_by_index(gcode)                   # gender\n",
    "        \n",
    "\n",
    "\n",
    "        enter = driver.find_element('name', \"login\").submit()\n",
    "        time.sleep(3)\n",
    "        \n",
    "        \n",
    "        driver.execute_script(\"window.scrollTo(0, document.body.scrollHeight);\")\n",
    "        num = driver.find_element('id', \"number\")\n",
    "        # pin = driver.find_element('id', \"pin\")\n",
    "        # balance = driver.find_element('id', \"balance\")\n",
    "        \n",
    "        # balance.send_keys(get_balance())\n",
    "        # pin.send_keys(get_pin())\n",
    "        num.send_keys(number)\n",
    "        time.sleep(2)\n",
    "        enter = driver.find_element('name', \"login\").submit()\n",
    "        \n",
    "        # driver.execute_script(\"window.scrollTo(0, document.body.scrollHeight);\")\n",
    "        # time.sleep(2)\n",
    "        # otp = driver.find_element('id', \"otp\") \n",
    "        # otp.send_keys(get_otp())\n",
    "        # enter = driver.find_element('name', \"login\").submit()\n",
    "        time.sleep(2)\n",
    "    except Exception as e:\n",
    "    # #     driver.close()\n",
    "        print(e)\n",
    "    #     pass\n",
    "    \n",
    "    # driver.close()"
   ]
  },
  {
   "cell_type": "code",
   "execution_count": 11,
   "metadata": {},
   "outputs": [
    {
     "name": "stdout",
     "output_type": "stream",
     "text": [
      "Message: Unable to locate element: [id=\"pin\"]\n",
      "Stacktrace:\n",
      "RemoteError@chrome://remote/content/shared/RemoteError.sys.mjs:8:8\n",
      "WebDriverError@chrome://remote/content/shared/webdriver/Errors.sys.mjs:183:5\n",
      "NoSuchElementError@chrome://remote/content/shared/webdriver/Errors.sys.mjs:395:5\n",
      "element.find/</<@chrome://remote/content/marionette/element.sys.mjs:134:16\n",
      "\n"
     ]
    }
   ],
   "source": [
    "spam()"
   ]
  },
  {
   "cell_type": "code",
   "execution_count": 7,
   "metadata": {},
   "outputs": [],
   "source": [
    "def spam_loop():\n",
    "    for i in range(1000):\n",
    "        try:\n",
    "            print(i)\n",
    "            spam()\n",
    "        except:\n",
    "            pass"
   ]
  },
  {
   "cell_type": "code",
   "execution_count": 10,
   "metadata": {},
   "outputs": [
    {
     "name": "stdout",
     "output_type": "stream",
     "text": [
      "0\n",
      "1\n",
      "2\n",
      "3\n",
      "4\n",
      "5\n",
      "6\n",
      "7\n",
      "8\n",
      "Message: Unable to locate element: [id=\"number\"]\n",
      "Stacktrace:\n",
      "RemoteError@chrome://remote/content/shared/RemoteError.sys.mjs:8:8\n",
      "WebDriverError@chrome://remote/content/shared/webdriver/Errors.sys.mjs:183:5\n",
      "NoSuchElementError@chrome://remote/content/shared/webdriver/Errors.sys.mjs:395:5\n",
      "element.find/</<@chrome://remote/content/marionette/element.sys.mjs:134:16\n",
      "\n",
      "9\n",
      "Message: Unable to locate element: [id=\"pin\"]\n",
      "Stacktrace:\n",
      "RemoteError@chrome://remote/content/shared/RemoteError.sys.mjs:8:8\n",
      "WebDriverError@chrome://remote/content/shared/webdriver/Errors.sys.mjs:183:5\n",
      "NoSuchElementError@chrome://remote/content/shared/webdriver/Errors.sys.mjs:395:5\n",
      "element.find/</<@chrome://remote/content/marionette/element.sys.mjs:134:16\n",
      "\n",
      "10\n",
      "Message: Unable to locate element: [id=\"pin\"]\n",
      "Stacktrace:\n",
      "RemoteError@chrome://remote/content/shared/RemoteError.sys.mjs:8:8\n",
      "WebDriverError@chrome://remote/content/shared/webdriver/Errors.sys.mjs:183:5\n",
      "NoSuchElementError@chrome://remote/content/shared/webdriver/Errors.sys.mjs:395:5\n",
      "element.find/</<@chrome://remote/content/marionette/element.sys.mjs:134:16\n",
      "\n",
      "11\n",
      "Message: Unable to locate element: [id=\"pin\"]\n",
      "Stacktrace:\n",
      "RemoteError@chrome://remote/content/shared/RemoteError.sys.mjs:8:8\n",
      "WebDriverError@chrome://remote/content/shared/webdriver/Errors.sys.mjs:183:5\n",
      "NoSuchElementError@chrome://remote/content/shared/webdriver/Errors.sys.mjs:395:5\n",
      "element.find/</<@chrome://remote/content/marionette/element.sys.mjs:134:16\n",
      "\n",
      "12\n",
      "Message: Unable to locate element: [id=\"pin\"]\n",
      "Stacktrace:\n",
      "RemoteError@chrome://remote/content/shared/RemoteError.sys.mjs:8:8\n",
      "WebDriverError@chrome://remote/content/shared/webdriver/Errors.sys.mjs:183:5\n",
      "NoSuchElementError@chrome://remote/content/shared/webdriver/Errors.sys.mjs:395:5\n",
      "element.find/</<@chrome://remote/content/marionette/element.sys.mjs:134:16\n",
      "\n",
      "13\n",
      "Message: Unable to locate element: [id=\"pin\"]\n",
      "Stacktrace:\n",
      "RemoteError@chrome://remote/content/shared/RemoteError.sys.mjs:8:8\n",
      "WebDriverError@chrome://remote/content/shared/webdriver/Errors.sys.mjs:183:5\n",
      "NoSuchElementError@chrome://remote/content/shared/webdriver/Errors.sys.mjs:395:5\n",
      "element.find/</<@chrome://remote/content/marionette/element.sys.mjs:134:16\n",
      "\n",
      "14\n",
      "15\n",
      "16\n"
     ]
    }
   ],
   "source": [
    "spam_loop()"
   ]
  },
  {
   "cell_type": "code",
   "execution_count": null,
   "metadata": {},
   "outputs": [],
   "source": [
    "import multiprocessing"
   ]
  },
  {
   "cell_type": "code",
   "execution_count": null,
   "metadata": {},
   "outputs": [],
   "source": [
    "p1 = multiprocessing.Process(target=spam_loop, args=() )\n",
    "p2 = multiprocessing.Process(target=spam_loop, args=() )\n",
    "p3 = multiprocessing.Process(target=spam_loop, args=() )\n",
    "p4 = multiprocessing.Process(target=spam_loop, args=() )\n",
    "p1.start()\n",
    "p2.start()\n",
    "p3.start()\n",
    "p4.start()\n",
    "p1.join()\n",
    "p2.join()\n",
    "p3.join()\n",
    "p4.join()"
   ]
  }
 ],
 "metadata": {
  "kernelspec": {
   "display_name": "Tensorflow 2.8 Env",
   "language": "python",
   "name": "tf_2_8_env"
  },
  "language_info": {
   "codemirror_mode": {
    "name": "ipython",
    "version": 3
   },
   "file_extension": ".py",
   "mimetype": "text/x-python",
   "name": "python",
   "nbconvert_exporter": "python",
   "pygments_lexer": "ipython3",
   "version": "3.8.10"
  },
  "orig_nbformat": 4
 },
 "nbformat": 4,
 "nbformat_minor": 2
}
